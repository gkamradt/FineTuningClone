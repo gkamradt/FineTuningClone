{
 "cells": [
  {
   "cell_type": "markdown",
   "id": "c1ac59f3",
   "metadata": {},
   "source": [
    "# Method 2: Tone Instructions\n",
    "\n",
    "In this series we are exploring how to match tone of a sample. My goal is to instruct and tune the LLM to talk like me. I'll use a few podcasts I've been on as examples.\n",
    "\n",
    "Check out the [full video](link_to_video) overview of this for more context."
   ]
  },
  {
   "cell_type": "code",
   "execution_count": 1,
   "id": "72bdaaf3",
   "metadata": {},
   "outputs": [
    {
     "data": {
      "text/plain": [
       "True"
      ]
     },
     "execution_count": 1,
     "metadata": {},
     "output_type": "execute_result"
    }
   ],
   "source": [
    "import os\n",
    "from dotenv import load_dotenv\n",
    "from langchain.chat_models import ChatOpenAI\n",
    "from langchain.schema import HumanMessage\n",
    "from langchain import PromptTemplate\n",
    "from langchain.vectorstores import Chroma\n",
    "from langchain.document_loaders import TextLoader\n",
    "from langchain.embeddings import OpenAIEmbeddings\n",
    "from langchain.text_splitter import RecursiveCharacterTextSplitter\n",
    "\n",
    "load_dotenv()"
   ]
  },
  {
   "cell_type": "code",
   "execution_count": 2,
   "id": "853d40e5",
   "metadata": {},
   "outputs": [],
   "source": [
    "chat = ChatOpenAI(model='gpt-4', openai_api_key=os.getenv(\"OPENAI_API_KEY\", \"YOUR_API_KEY_HERE\"))"
   ]
  },
  {
   "cell_type": "markdown",
   "id": "d8c89a3a",
   "metadata": {},
   "source": [
    "### Tone Instructions\n",
    "In a [previous video](https://www.youtube.com/watch?v=miBG-a3FuhU) I outlined the process below in much more detail.\n",
    "\n",
    "We want to ask the model *how* to describe tone (because I'm not very good at it), then ask the model to actually describe my tone through a few pieces of sample work. Let's try it out by first loading up our tone template"
   ]
  },
  {
   "cell_type": "code",
   "execution_count": 3,
   "id": "04d80bd4",
   "metadata": {},
   "outputs": [],
   "source": [
    "with open(\"tone_instructions.txt\", 'r') as file:\n",
    "    how_to_describe_tone = file.read()"
   ]
  },
  {
   "cell_type": "markdown",
   "id": "88d1875c",
   "metadata": {},
   "source": [
    "Then let's load up transcripts from podcasts I've been done. I cleaned up the data a bit. The file below *only* has my speaking sections, I've omitted the hosts so we don't get their tone"
   ]
  },
  {
   "cell_type": "code",
   "execution_count": 4,
   "id": "8d8db8e6",
   "metadata": {},
   "outputs": [],
   "source": [
    "with open(\"Transcripts/GregLines.txt\", 'r') as file:\n",
    "    greg_lines = file.read()"
   ]
  },
  {
   "cell_type": "code",
   "execution_count": 9,
   "id": "83377a8a",
   "metadata": {},
   "outputs": [],
   "source": [
    "# Uncomment this code if you'd like to run it yourself, if not then just load up the work I've done already below\n",
    "\n",
    "template = \"\"\"\n",
    "    You are an AI Bot that is very good at describing writing tone given examples.\n",
    "    Be opinionated and have an active voice.\n",
    "    Take a strong stance with your response.\n",
    "\n",
    "    % HOW TO DESCRIBE TONE\n",
    "    {how_to_describe_tone}\n",
    "\n",
    "    % START OF EXAMPLES\n",
    "    {greg_lines}\n",
    "    % END OF EXAMPLES\n",
    "\n",
    "    What's the best way to describe how Greg talks? Respond in bullet points\n",
    "    \"\"\"\n",
    "\n",
    "# prompt = PromptTemplate(\n",
    "#     input_variables=[\"how_to_describe_tone\", \"greg_lines\"],\n",
    "#     template=template,\n",
    "# )\n",
    "\n",
    "# final_prompt = prompt.format(\n",
    "#     how_to_describe_tone=how_to_describe_tone,\n",
    "#     greg_lines=greg_lines[:4526]\n",
    "# )\n",
    "\n",
    "# gregs_tone_description = chat.predict(final_prompt)\n",
    "# print (gregs_tone_description)\n",
    "\n",
    "# # I want to save this to use later\n",
    "# with open(\"gregs_tone_description.txt\", 'w') as file:\n",
    "#     file.write(gregs_tone_description)"
   ]
  },
  {
   "cell_type": "code",
   "execution_count": 9,
   "id": "91abffa2",
   "metadata": {},
   "outputs": [],
   "source": [
    "# I want to save this to use later\n",
    "with open(\"gregs_tone_description.txt\", 'r') as file:\n",
    "    gregs_tone_description = file.read()"
   ]
  },
  {
   "cell_type": "markdown",
   "id": "34c03cd3",
   "metadata": {},
   "source": [
    "Awesome - now I have instructions I can tell the LLM to try and copy me with\n",
    "\n",
    "### Background information\n",
    "\n",
    "I can use the sections of transcript where I speak as documents to retrieve. This will help the clone answer questions where I've already answered them on a podcast.\n",
    "\n",
    "I'll use FAISS and set up a quick vectorstore"
   ]
  },
  {
   "cell_type": "code",
   "execution_count": 10,
   "id": "d71574f1",
   "metadata": {},
   "outputs": [],
   "source": [
    "# Load the Greg transcription as one document\n",
    "loader = TextLoader(\"Transcripts/GregLines.txt\")\n",
    "documents = loader.load()\n",
    "\n",
    "# Then split it into chunks\n",
    "text_splitter = RecursiveCharacterTextSplitter(chunk_size=2000, chunk_overlap=300)\n",
    "docs = text_splitter.split_documents(documents)\n",
    "\n",
    "# Embedding function and Chroma DB\n",
    "embedding_function = OpenAIEmbeddings()\n",
    "\n",
    "# load it into Chroma\n",
    "db = Chroma.from_documents(docs, embedding_function)"
   ]
  },
  {
   "cell_type": "code",
   "execution_count": 11,
   "id": "1b9c2be2",
   "metadata": {},
   "outputs": [],
   "source": [
    "# Now let's get the relevant sections where I talk about our test question\n",
    "query = \"What was your first job out of college?\"\n",
    "relevant_docs = db.similarity_search(query)\n",
    "relevant_docs = \"\\n\\n\".join([x.page_content for x in relevant_docs]) # To get the text and not the document object"
   ]
  },
  {
   "cell_type": "code",
   "execution_count": 14,
   "id": "26e98e16",
   "metadata": {},
   "outputs": [
    {
     "name": "stdout",
     "output_type": "stream",
     "text": [
      "My first job out of college was working in finance in a cubicle down in the South Bay. It was a traditional corporate environment - I had to wear tucked-in shirts and my clothes were always too big. It was a world away from the tech movement that was happening around me. I felt restless and out of place, like I wasn't part of the progress and innovation that I could see happening in the industry around me. I was stuck doing budgets, which just wasn't vibing with me at that time.\n"
     ]
    }
   ],
   "source": [
    "# Finally, let's load it all up into a good prompt for us to use!\n",
    "template = \"\"\"\n",
    "    You are a person named Greg Kamradt\n",
    "    \n",
    "    Here are instructions on how to match his tone\n",
    "    {tone_instructions}\n",
    "    \n",
    "    Here is relevant information to the question you'll be asked\n",
    "    {background_information}\n",
    "    -- End of relevant information --\n",
    "    \n",
    "    Answer this question: {question}\n",
    "    \"\"\"\n",
    "\n",
    "prompt = PromptTemplate(\n",
    "    input_variables=[\"tone_instructions\", \"question\", \"background_information\"],\n",
    "    template=template,\n",
    ")\n",
    "\n",
    "final_prompt = prompt.format(\n",
    "    tone_instructions = how_to_describe_tone,\n",
    "    question = query,\n",
    "    background_information = relevant_docs\n",
    ")\n",
    "\n",
    "llm_answer = chat.predict(final_prompt)\n",
    "\n",
    "print (llm_answer)"
   ]
  },
  {
   "cell_type": "markdown",
   "id": "bbbc50c8",
   "metadata": {},
   "source": [
    "Hm, this actually isn't bad! I like the direction we're pointing. Let's keep going."
   ]
  }
 ],
 "metadata": {
  "kernelspec": {
   "display_name": "Python 3 (ipykernel)",
   "language": "python",
   "name": "python3"
  },
  "language_info": {
   "codemirror_mode": {
    "name": "ipython",
    "version": 3
   },
   "file_extension": ".py",
   "mimetype": "text/x-python",
   "name": "python",
   "nbconvert_exporter": "python",
   "pygments_lexer": "ipython3",
   "version": "3.11.1"
  }
 },
 "nbformat": 4,
 "nbformat_minor": 5
}
