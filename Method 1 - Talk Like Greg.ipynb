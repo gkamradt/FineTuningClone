{
 "cells": [
  {
   "cell_type": "markdown",
   "id": "c1ac59f3",
   "metadata": {},
   "source": [
    "# Method 1: \"Talk Like Greg\"\n",
    "\n",
    "In this series we are exploring how to match tone of a sample. My goal is to instruct and tune the LLM to talk like me. I'll use a few podcasts I've been on as examples.\n",
    "\n",
    "Check out the [full video](link_to_video) overview of this for more context."
   ]
  },
  {
   "cell_type": "code",
   "execution_count": 1,
   "id": "72bdaaf3",
   "metadata": {},
   "outputs": [
    {
     "data": {
      "text/plain": [
       "True"
      ]
     },
     "execution_count": 1,
     "metadata": {},
     "output_type": "execute_result"
    }
   ],
   "source": [
    "import os\n",
    "from dotenv import load_dotenv\n",
    "from langchain.chat_models import ChatOpenAI\n",
    "from langchain.schema import HumanMessage\n",
    "\n",
    "load_dotenv()"
   ]
  },
  {
   "cell_type": "code",
   "execution_count": 2,
   "id": "853d40e5",
   "metadata": {},
   "outputs": [],
   "source": [
    "chat = ChatOpenAI(model='gpt-3.5-turbo', openai_api_key=os.getenv(\"OPENAI_API_KEY\", \"YOUR_API_KEY_HERE\"))"
   ]
  },
  {
   "cell_type": "code",
   "execution_count": 4,
   "id": "26e98e16",
   "metadata": {},
   "outputs": [
    {
     "name": "stdout",
     "output_type": "stream",
     "text": [
      "Oh, absolutely! So, my first job out of college was with a tech startup called InnovateTech. It was an exhilarating experience, let me tell you. I was hired as a software engineer, and boy, did I hit the ground running.\n",
      "\n",
      "Now, InnovateTech was all about developing cutting-edge solutions for the healthcare industry. I mean, we were like the Batman of healthcare tech, swooping in to save the day. My role was to work on developing a mobile app that would revolutionize patient-doctor communication. It was a game-changer, my friend.\n",
      "\n",
      "I remember those early days like they were yesterday. I was part of a small but mighty team of passionate individuals, all working towards the same goal. We had this amazing camaraderie, like a band of superheroes fighting for a better tomorrow. We would brainstorm ideas, code like maniacs, and push the boundaries of what was possible.\n",
      "\n",
      "The learning curve was steep, but man, was it exciting. I was constantly challenged to think outside the box and come up with innovative solutions. And let me tell you, the satisfaction of seeing our app come to life and knowing it would make a real difference in people's lives? It was like winning the lottery, my friend.\n",
      "\n",
      "We faced our fair share of obstacles, of course. Building something from scratch is never a walk in the park. But we persevered, fueled by a shared passion for our mission. We pulled late nights, fueled by pizza and copious amounts of caffeine, because we knew that what we were doing mattered.\n",
      "\n",
      "And you know what? Our hard work paid off. The app we created was a hit. Doctors and patients alike loved it, and we even got some recognition in the tech industry. It was a proud moment for all of us, standing on that stage, accepting awards for the blood, sweat, and tears we poured into our work.\n",
      "\n",
      "Looking back, that first job out of college was like a rollercoaster ride. It had its ups and downs, but man, was it thrilling. It laid the foundation for my career in tech and taught me the importance of teamwork, passion, and never settling for mediocrity.\n",
      "\n",
      "So, there you have it, my friend. That's the story of my first job out of college, told in all its Greg Kamradt-esque glory. It was an adventure, and I wouldn't trade it for the world.\n"
     ]
    }
   ],
   "source": [
    "output = chat([\n",
    "    HumanMessage(content=\"\"\"\n",
    "    Can you tell me about your first job out of college?\n",
    "    Talk like Greg Kamradt\n",
    "\n",
    "    \"\"\")\n",
    "]).content\n",
    "\n",
    "print (output)"
   ]
  }
 ],
 "metadata": {
  "kernelspec": {
   "display_name": "Python 3 (ipykernel)",
   "language": "python",
   "name": "python3"
  },
  "language_info": {
   "codemirror_mode": {
    "name": "ipython",
    "version": 3
   },
   "file_extension": ".py",
   "mimetype": "text/x-python",
   "name": "python",
   "nbconvert_exporter": "python",
   "pygments_lexer": "ipython3",
   "version": "3.11.6"
  }
 },
 "nbformat": 4,
 "nbformat_minor": 5
}
